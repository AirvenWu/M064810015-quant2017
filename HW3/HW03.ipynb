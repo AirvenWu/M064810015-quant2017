{
 "cells": [
  {
   "cell_type": "code",
   "execution_count": null,
   "metadata": {
    "collapsed": true
   },
   "outputs": [],
   "source": [
    "#輸入套件\n",
    "import requests\n",
    "from bs4 import BeautifulSoup"
   ]
  },
  {
   "cell_type": "code",
   "execution_count": null,
   "metadata": {
    "collapsed": true
   },
   "outputs": [],
   "source": [
    "#選定要分析的網頁\n",
    "url = \"http://news.cnyes.com/Content/20151214/20151214080543107512510.shtml?c=headline\""
   ]
  },
  {
   "cell_type": "code",
   "execution_count": null,
   "metadata": {
    "collapsed": true
   },
   "outputs": [],
   "source": [
    "#用request套件抓取網頁的原始碼,並設定文字編碼\n",
    "r = requests.get(url)\n",
    "r.encoding = \"UTF-8\""
   ]
  },
  {
   "cell_type": "code",
   "execution_count": null,
   "metadata": {},
   "outputs": [],
   "source": [
    "#使用BeautifulSoup套件將文字檔存成html格式\n",
    "soup = BeautifulSoup(r.text,\"lxml\")\n",
    "#搜尋新聞的文字內容並貼起來\n",
    "nt0 = soup.find_all('p')[0].text\n",
    "nt1 = soup.find_all('p')[1].text\n",
    "nt2 = soup.find_all('p')[2].text\n",
    "nt3 = soup.find_all('p')[3].text\n",
    "nt4 = soup.find_all('p')[4].text\n",
    "nt5 = soup.find_all('p')[5].text\n",
    "nt6 = soup.find_all('p')[6].text\n",
    "#news_text = str(nt0) + str(nt1) + str(nt2) + str(nt3) + str(nt4) + str(nt5) + str(nt6)\n",
    "news_text = nt0 + nt1 + nt2 + nt3 + nt4 + nt5 + nt6\n",
    "print(news_text)"
   ]
  },
  {
   "cell_type": "code",
   "execution_count": null,
   "metadata": {},
   "outputs": [],
   "source": [
    "#搜尋原文的摘要\n",
    "news_summary = soup.p.string\n",
    "print(news_summary)"
   ]
  },
  {
   "cell_type": "code",
   "execution_count": null,
   "metadata": {
    "collapsed": true
   },
   "outputs": [],
   "source": [
    "#匯入結巴套件\n",
    "import jieba\n",
    "import jieba.analyse"
   ]
  },
  {
   "cell_type": "code",
   "execution_count": null,
   "metadata": {},
   "outputs": [],
   "source": [
    "#使用結巴的字典\n",
    "jieba.set_dictionary('dict.txt.big')"
   ]
  },
  {
   "cell_type": "code",
   "execution_count": null,
   "metadata": {},
   "outputs": [],
   "source": [
    "#將剛剛的新聞內容選出文章出現機率前20高的關鍵字\n",
    "keywords = jieba.analyse.extract_tags(news_text, topK=20, withWeight=False)"
   ]
  },
  {
   "cell_type": "code",
   "execution_count": null,
   "metadata": {},
   "outputs": [],
   "source": [
    "#顯示出關鍵字\n",
    "print(\"/ \".join(keywords))"
   ]
  },
  {
   "cell_type": "code",
   "execution_count": null,
   "metadata": {},
   "outputs": [],
   "source": [
    "#用repr的函式顯示出第8行挑選關鍵字程式碼運行的內容,也就是將每個關鍵字的機率列出\n",
    "print(repr(jieba.analyse.extract_tags(news_text, topK=20, withWeight=True)))#.decode('unicode-escape')"
   ]
  },
  {
   "cell_type": "code",
   "execution_count": null,
   "metadata": {},
   "outputs": [],
   "source": [
    "#用repr的函式顯示出挑選關鍵字程式碼運行的內容,也就是將排名前10高的關鍵字的機率列出\n",
    "print(repr(jieba.analyse.textrank(news_text, topK=10, withWeight=True)))#.decode('unicode-escape')"
   ]
  },
  {
   "cell_type": "code",
   "execution_count": null,
   "metadata": {
    "collapsed": true
   },
   "outputs": [],
   "source": [
    "#建立一個關鍵字索引的函式,其中會用到兩個變數,enumerate會將同時list的索引值與資料的值輸出\n",
    "def index_of_keyword(sentences, keyword):\n",
    "    for i, s in enumerate(sentences):\n",
    "        if keyword in s:\n",
    "              return i\n",
    "    return -1"
   ]
  },
  {
   "cell_type": "code",
   "execution_count": null,
   "metadata": {},
   "outputs": [],
   "source": [
    "#將文章隔行刪除,並用句號分割,最後顯示出有多少句子\n",
    "sentences = news_text.replace(\"\\n\",\"\").split(u\"。\")\n",
    "len(sentences)"
   ]
  },
  {
   "cell_type": "code",
   "execution_count": null,
   "metadata": {},
   "outputs": [],
   "source": [
    "#利用迴圈顯示出13行句子\n",
    "for sentence in sentences:\n",
    "    print(sentence + u\"。\")"
   ]
  },
  {
   "cell_type": "code",
   "execution_count": null,
   "metadata": {},
   "outputs": [],
   "source": [
    "#利用剛剛建立的關鍵字索引,輸入sentences與紫光這兩個變數,最後顯示出它在第8句\n",
    "index_of_keyword(sentences,u\"紫光\")"
   ]
  },
  {
   "cell_type": "code",
   "execution_count": null,
   "metadata": {},
   "outputs": [],
   "source": [
    "#顯示出第8句的內容,並在結尾加入句點\n",
    "print(sentences[index_of_keyword(sentences,u\"紫光\")]+u\"。\")"
   ]
  },
  {
   "cell_type": "code",
   "execution_count": null,
   "metadata": {},
   "outputs": [],
   "source": [
    "#sentences第0句有64個字\n",
    "len(sentences[0])"
   ]
  },
  {
   "cell_type": "code",
   "execution_count": null,
   "metadata": {
    "collapsed": true
   },
   "outputs": [],
   "source": [
    "#建立一個空白list,利用迴圈搜尋前3個關鍵字所在的句子,加入空白的list中\n",
    "s_index = []\n",
    "for keyword in keywords[:3]:\n",
    "    s_index.append(index_of_keyword(sentences,keyword))\n",
    "#並將得到的句子轉成索引值\n",
    "s_set = set(s_index)\n",
    "s_index = list(s_set)"
   ]
  },
  {
   "cell_type": "code",
   "execution_count": null,
   "metadata": {
    "collapsed": true
   },
   "outputs": [],
   "source": [
    "#建立一個空白的字串,利用找好的索引值回傳至sentences中,列出該句子,並加入句號\n",
    "summary = \"\"\n",
    "for i in s_index:\n",
    "    summary += sentences[i]+u\"。\""
   ]
  },
  {
   "cell_type": "code",
   "execution_count": null,
   "metadata": {},
   "outputs": [],
   "source": [
    "#顯示出最後摘要的新聞內容\n",
    "print(summary)"
   ]
  },
  {
   "cell_type": "code",
   "execution_count": null,
   "metadata": {},
   "outputs": [],
   "source": [
    "#顯示出原新聞的摘要\n",
    "print(news_summary)"
   ]
  }
 ],
 "metadata": {
  "kernelspec": {
   "display_name": "Python 3",
   "language": "python",
   "name": "python3"
  },
  "language_info": {
   "codemirror_mode": {
    "name": "ipython",
    "version": 3
   },
   "file_extension": ".py",
   "mimetype": "text/x-python",
   "name": "python",
   "nbconvert_exporter": "python",
   "pygments_lexer": "ipython3",
   "version": "3.6.1"
  }
 },
 "nbformat": 4,
 "nbformat_minor": 2
}
