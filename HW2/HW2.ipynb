{
 "cells": [
  {
   "cell_type": "code",
   "execution_count": 42,
   "metadata": {
    "collapsed": true
   },
   "outputs": [],
   "source": [
    "import os"
   ]
  },
  {
   "cell_type": "code",
   "execution_count": 43,
   "metadata": {},
   "outputs": [],
   "source": [
    "def main():\n",
    "    print('Hello, world!')\n",
    "    \n",
    "    print(\"This is Alice's qreeting.\")\n",
    "    print('This is Bob\\'s greeting.')\n",
    "    \n",
    "    foo(5,10)\n",
    "    \n",
    "    print ('=' * 10)\n",
    "    print ('Current working directory is' + os.getcwd())\n",
    "    \n",
    "    counter=0\n",
    "    counter += 1\n",
    "    \n",
    "    food = ['apples', 'oranges', 'cats']\n",
    "    \n",
    "    for i in food:\n",
    "        print ('I like to eat' + i )\n",
    "        \n",
    "    print ('Count to ten')\n",
    "    for i in range(10):\n",
    "        print (i)"
   ]
  },
  {
   "cell_type": "code",
   "execution_count": 44,
   "metadata": {},
   "outputs": [],
   "source": [
    "def foo(paraml, secondParam) :\n",
    "    res= param1 + secondParam\n",
    "    \n",
    "    print ('%s plus $s is equal to %s') \n",
    "    \n",
    "    if res < 50:\n",
    "        print ('foo')\n",
    "        \n",
    "    elif (res >= 50) and ((param1 == 42) or (secondParam == 24)) :\n",
    "        print ('bar')\n",
    "        \n",
    "    else: \n",
    "        print ('moo')\n",
    "        \n",
    "    return res  # This is a one-line comment.\n",
    "    ''' A multi-\n",
    "line string, but can also be a multi-line comment.'''\n",
    "    \n",
    "\n",
    "    main()"
   ]
  }
 ],
 "metadata": {
  "kernelspec": {
   "display_name": "Python 3",
   "language": "python",
   "name": "python3"
  },
  "language_info": {
   "codemirror_mode": {
    "name": "ipython",
    "version": 3
   },
   "file_extension": ".py",
   "mimetype": "text/x-python",
   "name": "python",
   "nbconvert_exporter": "python",
   "pygments_lexer": "ipython3",
   "version": "3.6.2"
  }
 },
 "nbformat": 4,
 "nbformat_minor": 2
}
