{
 "cells": [
  {
   "cell_type": "code",
   "execution_count": 32,
   "metadata": {
    "collapsed": true
   },
   "outputs": [],
   "source": [
    "#載入模組\n",
    "import os"
   ]
  },
  {
   "cell_type": "code",
   "execution_count": 35,
   "metadata": {},
   "outputs": [],
   "source": [
    "#定義main的註解\n",
    "def main():\n",
    "    \n",
    "    #print印出()中的內容\n",
    "    print('Hello World!')\n",
    "    print(\"This is Alice's greeting.\")\n",
    "    print(\"This is Bob\\'s greeting.\")\n",
    "    \n",
    "    foo(5,10)                                             #給定foo函數2個值為5和10\n",
    "    \n",
    "    print(\"=\"*10)                                         #顯示 \"=\" 重複10次\n",
    "    print(\"Current working directory is \" + os.getcwd())  #顯示字串(Current working directory is)並呼叫出目前的工作目錄\n",
    "    \n",
    "    counter = 0                                           #給定變數(並自己取一個變數名稱,任意取)為 0\n",
    "    counter += 1                                          #使上述變數,最後的值為 1\n",
    "    \n",
    "    food = [\"apples\",\"oranges\",\"cats\"]                    #建立一list為food,而food裡面有apples,oranges,cats\n",
    "    for i in food:                                        #利用for迴圈分別顯示出:\n",
    "        print(\"I like to eat \" + i)                       #I like to eat i ,其中i為apples,oranges,cats\n",
    "                                                          #其中 i會依序代入food list裡的字串,ex:apples,oranges,cats\n",
    "    print(\"Count to ten:\")                                #顯示出Count to ten這段字串:\n",
    "    for i in range(1,11):                                 #利用for迴圈顯示出1到10,range函數:從數字 1開始到第 11個數字(也就是數字10)結束\n",
    "        print(i)                                        "
   ]
  },
  {
   "cell_type": "code",
   "execution_count": 36,
   "metadata": {},
   "outputs": [
    {
     "name": "stdout",
     "output_type": "stream",
     "text": [
      "Hello World!\n",
      "This is Alice's greeting.\n",
      "This is Bob's greeting.\n",
      "5 plus 10 is equal to 15\n",
      "foo\n",
      "==========\n",
      "Current working directory is C:\\Users\\user\\Desktop\\fintech\\homework1\\HW2\n",
      "I like to eat apples\n",
      "I like to eat oranges\n",
      "I like to eat cats\n",
      "Count to ten:\n",
      "1\n",
      "2\n",
      "3\n",
      "4\n",
      "5\n",
      "6\n",
      "7\n",
      "8\n",
      "9\n",
      "10\n"
     ]
    }
   ],
   "source": [
    "#定義一個foo函式,給定foo函數為param1和secondParam):\n",
    "def foo(param1,secondParam):\n",
    "    res = param1 + secondParam                                    #定義 res等於param1和secondParam相加\n",
    "    print(\"%s plus %s is equal to %s\" % (param1,secondParam,res)) #顯示字串,為param1+secondParam+res\n",
    "    \n",
    "    if res < 50:\n",
    "        print(\"foo\")                                              #用迴圈顯示當res小於50時,顯示foo的值\n",
    "    elif (res > 50) and ((param1 == 42) or (secondParam == 24)):\n",
    "        print(\"bar\")                                              #用迴圈顯示當res大於50時且paraml1等於42或secondParam等於24)時,顯示bar\n",
    "    else:\n",
    "        print(\"moo\")                                              #若不符合上述兩條件,會顯示moo\n",
    "    \n",
    "    return res                                                    #若函式中有用到param1和secondParam,使用\"return\"回傳res\n",
    "\n",
    "                                                                  \n",
    "if __name__ == '__main__':                                        #當__name__等於__main__時\n",
    "    main()                                                        #執行上方main函式\n",
    "                                                                  #foo函式已執行完畢,但上方的main函式尚未執行完畢\n",
    "                                                                  #因此用if條件式讓電腦離開foo的函式,執行main函式"
   ]
  },
  {
   "cell_type": "code",
   "execution_count": null,
   "metadata": {
    "collapsed": true
   },
   "outputs": [],
   "source": []
  }
 ],
 "metadata": {
  "kernelspec": {
   "display_name": "Python 3",
   "language": "python",
   "name": "python3"
  },
  "language_info": {
   "codemirror_mode": {
    "name": "ipython",
    "version": 3
   },
   "file_extension": ".py",
   "mimetype": "text/x-python",
   "name": "python",
   "nbconvert_exporter": "python",
   "pygments_lexer": "ipython3",
   "version": "3.6.2"
  }
 },
 "nbformat": 4,
 "nbformat_minor": 2
}
